{
  "nbformat": 4,
  "nbformat_minor": 0,
  "metadata": {
    "colab": {
      "provenance": [],
      "authorship_tag": "ABX9TyNA8dGR3LvZql77O2DldHAl",
      "include_colab_link": true
    },
    "kernelspec": {
      "name": "python3",
      "display_name": "Python 3"
    },
    "language_info": {
      "name": "python"
    }
  },
  "cells": [
    {
      "cell_type": "markdown",
      "metadata": {
        "id": "view-in-github",
        "colab_type": "text"
      },
      "source": [
        "<a href=\"https://colab.research.google.com/github/aditigawand/Time-Series-Analysis-/blob/main/Project.ipynb\" target=\"_parent\"><img src=\"https://colab.research.google.com/assets/colab-badge.svg\" alt=\"Open In Colab\"/></a>"
      ]
    },
    {
      "cell_type": "markdown",
      "source": [
        "**Import Basic Libraries**"
      ],
      "metadata": {
        "id": "HB_y6anFToD0"
      }
    },
    {
      "cell_type": "code",
      "execution_count": null,
      "metadata": {
        "id": "P5I3J4oHFBYv"
      },
      "outputs": [],
      "source": [
        "import numpy as np\n",
        "import pandas as pd\n",
        "import matplotlib.pyplot as plt\n",
        "import tensorflow as tf\n",
        "from tensorflow.keras.models  import Sequential\n",
        "from tensorflow.keras.layers import Dense, LSTM\n",
        "from sklearn.preprocessing import MinMaxScaler\n",
        "from sklearn.metrics import mean_squared_error"
      ]
    },
    {
      "cell_type": "code",
      "source": [
        "# connect the google drive with the colab\n",
        "from google.colab import drive\n",
        "drive.mount('/content/drive')"
      ],
      "metadata": {
        "colab": {
          "base_uri": "https://localhost:8080/"
        },
        "id": "E4Jdvb7JGGrB",
        "outputId": "49f2796c-aa86-47fa-e54f-0584614598c3"
      },
      "execution_count": null,
      "outputs": [
        {
          "output_type": "stream",
          "name": "stdout",
          "text": [
            "Mounted at /content/drive\n"
          ]
        }
      ]
    },
    {
      "cell_type": "code",
      "source": [
        "df = pd.read_csv('/content/drive/MyDrive/dataanalytics/a10 .csv')\n",
        "df"
      ],
      "metadata": {
        "colab": {
          "base_uri": "https://localhost:8080/",
          "height": 423
        },
        "id": "ZV3YjCaaFXC0",
        "outputId": "f6740711-df4a-43ea-bebb-6d3166cb1cb2"
      },
      "execution_count": null,
      "outputs": [
        {
          "output_type": "execute_result",
          "data": {
            "text/plain": [
              "           date      value\n",
              "0    1991-07-01   3.526591\n",
              "1    1991-08-01   3.180891\n",
              "2    1991-09-01   3.252221\n",
              "3    1991-10-01   3.611003\n",
              "4    1991-11-01   3.565869\n",
              "..          ...        ...\n",
              "199  2008-02-01  21.654285\n",
              "200  2008-03-01  18.264945\n",
              "201  2008-04-01  23.107677\n",
              "202  2008-05-01  22.912510\n",
              "203  2008-06-01  19.431740\n",
              "\n",
              "[204 rows x 2 columns]"
            ],
            "text/html": [
              "\n",
              "  <div id=\"df-ab70d8c2-808e-47cc-aef1-4e495e8da35c\">\n",
              "    <div class=\"colab-df-container\">\n",
              "      <div>\n",
              "<style scoped>\n",
              "    .dataframe tbody tr th:only-of-type {\n",
              "        vertical-align: middle;\n",
              "    }\n",
              "\n",
              "    .dataframe tbody tr th {\n",
              "        vertical-align: top;\n",
              "    }\n",
              "\n",
              "    .dataframe thead th {\n",
              "        text-align: right;\n",
              "    }\n",
              "</style>\n",
              "<table border=\"1\" class=\"dataframe\">\n",
              "  <thead>\n",
              "    <tr style=\"text-align: right;\">\n",
              "      <th></th>\n",
              "      <th>date</th>\n",
              "      <th>value</th>\n",
              "    </tr>\n",
              "  </thead>\n",
              "  <tbody>\n",
              "    <tr>\n",
              "      <th>0</th>\n",
              "      <td>1991-07-01</td>\n",
              "      <td>3.526591</td>\n",
              "    </tr>\n",
              "    <tr>\n",
              "      <th>1</th>\n",
              "      <td>1991-08-01</td>\n",
              "      <td>3.180891</td>\n",
              "    </tr>\n",
              "    <tr>\n",
              "      <th>2</th>\n",
              "      <td>1991-09-01</td>\n",
              "      <td>3.252221</td>\n",
              "    </tr>\n",
              "    <tr>\n",
              "      <th>3</th>\n",
              "      <td>1991-10-01</td>\n",
              "      <td>3.611003</td>\n",
              "    </tr>\n",
              "    <tr>\n",
              "      <th>4</th>\n",
              "      <td>1991-11-01</td>\n",
              "      <td>3.565869</td>\n",
              "    </tr>\n",
              "    <tr>\n",
              "      <th>...</th>\n",
              "      <td>...</td>\n",
              "      <td>...</td>\n",
              "    </tr>\n",
              "    <tr>\n",
              "      <th>199</th>\n",
              "      <td>2008-02-01</td>\n",
              "      <td>21.654285</td>\n",
              "    </tr>\n",
              "    <tr>\n",
              "      <th>200</th>\n",
              "      <td>2008-03-01</td>\n",
              "      <td>18.264945</td>\n",
              "    </tr>\n",
              "    <tr>\n",
              "      <th>201</th>\n",
              "      <td>2008-04-01</td>\n",
              "      <td>23.107677</td>\n",
              "    </tr>\n",
              "    <tr>\n",
              "      <th>202</th>\n",
              "      <td>2008-05-01</td>\n",
              "      <td>22.912510</td>\n",
              "    </tr>\n",
              "    <tr>\n",
              "      <th>203</th>\n",
              "      <td>2008-06-01</td>\n",
              "      <td>19.431740</td>\n",
              "    </tr>\n",
              "  </tbody>\n",
              "</table>\n",
              "<p>204 rows × 2 columns</p>\n",
              "</div>\n",
              "      <button class=\"colab-df-convert\" onclick=\"convertToInteractive('df-ab70d8c2-808e-47cc-aef1-4e495e8da35c')\"\n",
              "              title=\"Convert this dataframe to an interactive table.\"\n",
              "              style=\"display:none;\">\n",
              "        \n",
              "  <svg xmlns=\"http://www.w3.org/2000/svg\" height=\"24px\"viewBox=\"0 0 24 24\"\n",
              "       width=\"24px\">\n",
              "    <path d=\"M0 0h24v24H0V0z\" fill=\"none\"/>\n",
              "    <path d=\"M18.56 5.44l.94 2.06.94-2.06 2.06-.94-2.06-.94-.94-2.06-.94 2.06-2.06.94zm-11 1L8.5 8.5l.94-2.06 2.06-.94-2.06-.94L8.5 2.5l-.94 2.06-2.06.94zm10 10l.94 2.06.94-2.06 2.06-.94-2.06-.94-.94-2.06-.94 2.06-2.06.94z\"/><path d=\"M17.41 7.96l-1.37-1.37c-.4-.4-.92-.59-1.43-.59-.52 0-1.04.2-1.43.59L10.3 9.45l-7.72 7.72c-.78.78-.78 2.05 0 2.83L4 21.41c.39.39.9.59 1.41.59.51 0 1.02-.2 1.41-.59l7.78-7.78 2.81-2.81c.8-.78.8-2.07 0-2.86zM5.41 20L4 18.59l7.72-7.72 1.47 1.35L5.41 20z\"/>\n",
              "  </svg>\n",
              "      </button>\n",
              "      \n",
              "  <style>\n",
              "    .colab-df-container {\n",
              "      display:flex;\n",
              "      flex-wrap:wrap;\n",
              "      gap: 12px;\n",
              "    }\n",
              "\n",
              "    .colab-df-convert {\n",
              "      background-color: #E8F0FE;\n",
              "      border: none;\n",
              "      border-radius: 50%;\n",
              "      cursor: pointer;\n",
              "      display: none;\n",
              "      fill: #1967D2;\n",
              "      height: 32px;\n",
              "      padding: 0 0 0 0;\n",
              "      width: 32px;\n",
              "    }\n",
              "\n",
              "    .colab-df-convert:hover {\n",
              "      background-color: #E2EBFA;\n",
              "      box-shadow: 0px 1px 2px rgba(60, 64, 67, 0.3), 0px 1px 3px 1px rgba(60, 64, 67, 0.15);\n",
              "      fill: #174EA6;\n",
              "    }\n",
              "\n",
              "    [theme=dark] .colab-df-convert {\n",
              "      background-color: #3B4455;\n",
              "      fill: #D2E3FC;\n",
              "    }\n",
              "\n",
              "    [theme=dark] .colab-df-convert:hover {\n",
              "      background-color: #434B5C;\n",
              "      box-shadow: 0px 1px 3px 1px rgba(0, 0, 0, 0.15);\n",
              "      filter: drop-shadow(0px 1px 2px rgba(0, 0, 0, 0.3));\n",
              "      fill: #FFFFFF;\n",
              "    }\n",
              "  </style>\n",
              "\n",
              "      <script>\n",
              "        const buttonEl =\n",
              "          document.querySelector('#df-ab70d8c2-808e-47cc-aef1-4e495e8da35c button.colab-df-convert');\n",
              "        buttonEl.style.display =\n",
              "          google.colab.kernel.accessAllowed ? 'block' : 'none';\n",
              "\n",
              "        async function convertToInteractive(key) {\n",
              "          const element = document.querySelector('#df-ab70d8c2-808e-47cc-aef1-4e495e8da35c');\n",
              "          const dataTable =\n",
              "            await google.colab.kernel.invokeFunction('convertToInteractive',\n",
              "                                                     [key], {});\n",
              "          if (!dataTable) return;\n",
              "\n",
              "          const docLinkHtml = 'Like what you see? Visit the ' +\n",
              "            '<a target=\"_blank\" href=https://colab.research.google.com/notebooks/data_table.ipynb>data table notebook</a>'\n",
              "            + ' to learn more about interactive tables.';\n",
              "          element.innerHTML = '';\n",
              "          dataTable['output_type'] = 'display_data';\n",
              "          await google.colab.output.renderOutput(dataTable, element);\n",
              "          const docLink = document.createElement('div');\n",
              "          docLink.innerHTML = docLinkHtml;\n",
              "          element.appendChild(docLink);\n",
              "        }\n",
              "      </script>\n",
              "    </div>\n",
              "  </div>\n",
              "  "
            ]
          },
          "metadata": {},
          "execution_count": 3
        }
      ]
    },
    {
      "cell_type": "code",
      "source": [
        "# head() it displays the top rows\n",
        "df.head()"
      ],
      "metadata": {
        "colab": {
          "base_uri": "https://localhost:8080/",
          "height": 206
        },
        "id": "zuyA9KGRGZjb",
        "outputId": "cb568959-3d17-496c-f37d-f35c87e83c10"
      },
      "execution_count": null,
      "outputs": [
        {
          "output_type": "execute_result",
          "data": {
            "text/plain": [
              "         date     value\n",
              "0  1991-07-01  3.526591\n",
              "1  1991-08-01  3.180891\n",
              "2  1991-09-01  3.252221\n",
              "3  1991-10-01  3.611003\n",
              "4  1991-11-01  3.565869"
            ],
            "text/html": [
              "\n",
              "  <div id=\"df-2ded63e0-c2b1-4a23-9268-9a85e4b85a8c\">\n",
              "    <div class=\"colab-df-container\">\n",
              "      <div>\n",
              "<style scoped>\n",
              "    .dataframe tbody tr th:only-of-type {\n",
              "        vertical-align: middle;\n",
              "    }\n",
              "\n",
              "    .dataframe tbody tr th {\n",
              "        vertical-align: top;\n",
              "    }\n",
              "\n",
              "    .dataframe thead th {\n",
              "        text-align: right;\n",
              "    }\n",
              "</style>\n",
              "<table border=\"1\" class=\"dataframe\">\n",
              "  <thead>\n",
              "    <tr style=\"text-align: right;\">\n",
              "      <th></th>\n",
              "      <th>date</th>\n",
              "      <th>value</th>\n",
              "    </tr>\n",
              "  </thead>\n",
              "  <tbody>\n",
              "    <tr>\n",
              "      <th>0</th>\n",
              "      <td>1991-07-01</td>\n",
              "      <td>3.526591</td>\n",
              "    </tr>\n",
              "    <tr>\n",
              "      <th>1</th>\n",
              "      <td>1991-08-01</td>\n",
              "      <td>3.180891</td>\n",
              "    </tr>\n",
              "    <tr>\n",
              "      <th>2</th>\n",
              "      <td>1991-09-01</td>\n",
              "      <td>3.252221</td>\n",
              "    </tr>\n",
              "    <tr>\n",
              "      <th>3</th>\n",
              "      <td>1991-10-01</td>\n",
              "      <td>3.611003</td>\n",
              "    </tr>\n",
              "    <tr>\n",
              "      <th>4</th>\n",
              "      <td>1991-11-01</td>\n",
              "      <td>3.565869</td>\n",
              "    </tr>\n",
              "  </tbody>\n",
              "</table>\n",
              "</div>\n",
              "      <button class=\"colab-df-convert\" onclick=\"convertToInteractive('df-2ded63e0-c2b1-4a23-9268-9a85e4b85a8c')\"\n",
              "              title=\"Convert this dataframe to an interactive table.\"\n",
              "              style=\"display:none;\">\n",
              "        \n",
              "  <svg xmlns=\"http://www.w3.org/2000/svg\" height=\"24px\"viewBox=\"0 0 24 24\"\n",
              "       width=\"24px\">\n",
              "    <path d=\"M0 0h24v24H0V0z\" fill=\"none\"/>\n",
              "    <path d=\"M18.56 5.44l.94 2.06.94-2.06 2.06-.94-2.06-.94-.94-2.06-.94 2.06-2.06.94zm-11 1L8.5 8.5l.94-2.06 2.06-.94-2.06-.94L8.5 2.5l-.94 2.06-2.06.94zm10 10l.94 2.06.94-2.06 2.06-.94-2.06-.94-.94-2.06-.94 2.06-2.06.94z\"/><path d=\"M17.41 7.96l-1.37-1.37c-.4-.4-.92-.59-1.43-.59-.52 0-1.04.2-1.43.59L10.3 9.45l-7.72 7.72c-.78.78-.78 2.05 0 2.83L4 21.41c.39.39.9.59 1.41.59.51 0 1.02-.2 1.41-.59l7.78-7.78 2.81-2.81c.8-.78.8-2.07 0-2.86zM5.41 20L4 18.59l7.72-7.72 1.47 1.35L5.41 20z\"/>\n",
              "  </svg>\n",
              "      </button>\n",
              "      \n",
              "  <style>\n",
              "    .colab-df-container {\n",
              "      display:flex;\n",
              "      flex-wrap:wrap;\n",
              "      gap: 12px;\n",
              "    }\n",
              "\n",
              "    .colab-df-convert {\n",
              "      background-color: #E8F0FE;\n",
              "      border: none;\n",
              "      border-radius: 50%;\n",
              "      cursor: pointer;\n",
              "      display: none;\n",
              "      fill: #1967D2;\n",
              "      height: 32px;\n",
              "      padding: 0 0 0 0;\n",
              "      width: 32px;\n",
              "    }\n",
              "\n",
              "    .colab-df-convert:hover {\n",
              "      background-color: #E2EBFA;\n",
              "      box-shadow: 0px 1px 2px rgba(60, 64, 67, 0.3), 0px 1px 3px 1px rgba(60, 64, 67, 0.15);\n",
              "      fill: #174EA6;\n",
              "    }\n",
              "\n",
              "    [theme=dark] .colab-df-convert {\n",
              "      background-color: #3B4455;\n",
              "      fill: #D2E3FC;\n",
              "    }\n",
              "\n",
              "    [theme=dark] .colab-df-convert:hover {\n",
              "      background-color: #434B5C;\n",
              "      box-shadow: 0px 1px 3px 1px rgba(0, 0, 0, 0.15);\n",
              "      filter: drop-shadow(0px 1px 2px rgba(0, 0, 0, 0.3));\n",
              "      fill: #FFFFFF;\n",
              "    }\n",
              "  </style>\n",
              "\n",
              "      <script>\n",
              "        const buttonEl =\n",
              "          document.querySelector('#df-2ded63e0-c2b1-4a23-9268-9a85e4b85a8c button.colab-df-convert');\n",
              "        buttonEl.style.display =\n",
              "          google.colab.kernel.accessAllowed ? 'block' : 'none';\n",
              "\n",
              "        async function convertToInteractive(key) {\n",
              "          const element = document.querySelector('#df-2ded63e0-c2b1-4a23-9268-9a85e4b85a8c');\n",
              "          const dataTable =\n",
              "            await google.colab.kernel.invokeFunction('convertToInteractive',\n",
              "                                                     [key], {});\n",
              "          if (!dataTable) return;\n",
              "\n",
              "          const docLinkHtml = 'Like what you see? Visit the ' +\n",
              "            '<a target=\"_blank\" href=https://colab.research.google.com/notebooks/data_table.ipynb>data table notebook</a>'\n",
              "            + ' to learn more about interactive tables.';\n",
              "          element.innerHTML = '';\n",
              "          dataTable['output_type'] = 'display_data';\n",
              "          await google.colab.output.renderOutput(dataTable, element);\n",
              "          const docLink = document.createElement('div');\n",
              "          docLink.innerHTML = docLinkHtml;\n",
              "          element.appendChild(docLink);\n",
              "        }\n",
              "      </script>\n",
              "    </div>\n",
              "  </div>\n",
              "  "
            ]
          },
          "metadata": {},
          "execution_count": 4
        }
      ]
    },
    {
      "cell_type": "code",
      "source": [
        "# tail() it displays the bottom  rows\n",
        "df.tail()"
      ],
      "metadata": {
        "colab": {
          "base_uri": "https://localhost:8080/",
          "height": 206
        },
        "id": "puOCAZYGGeAx",
        "outputId": "7877ec08-25b1-4b53-c9fa-0373c34f0f89"
      },
      "execution_count": null,
      "outputs": [
        {
          "output_type": "execute_result",
          "data": {
            "text/plain": [
              "           date      value\n",
              "199  2008-02-01  21.654285\n",
              "200  2008-03-01  18.264945\n",
              "201  2008-04-01  23.107677\n",
              "202  2008-05-01  22.912510\n",
              "203  2008-06-01  19.431740"
            ],
            "text/html": [
              "\n",
              "  <div id=\"df-33316b81-e51f-4b17-81eb-e928f8d8f1cc\">\n",
              "    <div class=\"colab-df-container\">\n",
              "      <div>\n",
              "<style scoped>\n",
              "    .dataframe tbody tr th:only-of-type {\n",
              "        vertical-align: middle;\n",
              "    }\n",
              "\n",
              "    .dataframe tbody tr th {\n",
              "        vertical-align: top;\n",
              "    }\n",
              "\n",
              "    .dataframe thead th {\n",
              "        text-align: right;\n",
              "    }\n",
              "</style>\n",
              "<table border=\"1\" class=\"dataframe\">\n",
              "  <thead>\n",
              "    <tr style=\"text-align: right;\">\n",
              "      <th></th>\n",
              "      <th>date</th>\n",
              "      <th>value</th>\n",
              "    </tr>\n",
              "  </thead>\n",
              "  <tbody>\n",
              "    <tr>\n",
              "      <th>199</th>\n",
              "      <td>2008-02-01</td>\n",
              "      <td>21.654285</td>\n",
              "    </tr>\n",
              "    <tr>\n",
              "      <th>200</th>\n",
              "      <td>2008-03-01</td>\n",
              "      <td>18.264945</td>\n",
              "    </tr>\n",
              "    <tr>\n",
              "      <th>201</th>\n",
              "      <td>2008-04-01</td>\n",
              "      <td>23.107677</td>\n",
              "    </tr>\n",
              "    <tr>\n",
              "      <th>202</th>\n",
              "      <td>2008-05-01</td>\n",
              "      <td>22.912510</td>\n",
              "    </tr>\n",
              "    <tr>\n",
              "      <th>203</th>\n",
              "      <td>2008-06-01</td>\n",
              "      <td>19.431740</td>\n",
              "    </tr>\n",
              "  </tbody>\n",
              "</table>\n",
              "</div>\n",
              "      <button class=\"colab-df-convert\" onclick=\"convertToInteractive('df-33316b81-e51f-4b17-81eb-e928f8d8f1cc')\"\n",
              "              title=\"Convert this dataframe to an interactive table.\"\n",
              "              style=\"display:none;\">\n",
              "        \n",
              "  <svg xmlns=\"http://www.w3.org/2000/svg\" height=\"24px\"viewBox=\"0 0 24 24\"\n",
              "       width=\"24px\">\n",
              "    <path d=\"M0 0h24v24H0V0z\" fill=\"none\"/>\n",
              "    <path d=\"M18.56 5.44l.94 2.06.94-2.06 2.06-.94-2.06-.94-.94-2.06-.94 2.06-2.06.94zm-11 1L8.5 8.5l.94-2.06 2.06-.94-2.06-.94L8.5 2.5l-.94 2.06-2.06.94zm10 10l.94 2.06.94-2.06 2.06-.94-2.06-.94-.94-2.06-.94 2.06-2.06.94z\"/><path d=\"M17.41 7.96l-1.37-1.37c-.4-.4-.92-.59-1.43-.59-.52 0-1.04.2-1.43.59L10.3 9.45l-7.72 7.72c-.78.78-.78 2.05 0 2.83L4 21.41c.39.39.9.59 1.41.59.51 0 1.02-.2 1.41-.59l7.78-7.78 2.81-2.81c.8-.78.8-2.07 0-2.86zM5.41 20L4 18.59l7.72-7.72 1.47 1.35L5.41 20z\"/>\n",
              "  </svg>\n",
              "      </button>\n",
              "      \n",
              "  <style>\n",
              "    .colab-df-container {\n",
              "      display:flex;\n",
              "      flex-wrap:wrap;\n",
              "      gap: 12px;\n",
              "    }\n",
              "\n",
              "    .colab-df-convert {\n",
              "      background-color: #E8F0FE;\n",
              "      border: none;\n",
              "      border-radius: 50%;\n",
              "      cursor: pointer;\n",
              "      display: none;\n",
              "      fill: #1967D2;\n",
              "      height: 32px;\n",
              "      padding: 0 0 0 0;\n",
              "      width: 32px;\n",
              "    }\n",
              "\n",
              "    .colab-df-convert:hover {\n",
              "      background-color: #E2EBFA;\n",
              "      box-shadow: 0px 1px 2px rgba(60, 64, 67, 0.3), 0px 1px 3px 1px rgba(60, 64, 67, 0.15);\n",
              "      fill: #174EA6;\n",
              "    }\n",
              "\n",
              "    [theme=dark] .colab-df-convert {\n",
              "      background-color: #3B4455;\n",
              "      fill: #D2E3FC;\n",
              "    }\n",
              "\n",
              "    [theme=dark] .colab-df-convert:hover {\n",
              "      background-color: #434B5C;\n",
              "      box-shadow: 0px 1px 3px 1px rgba(0, 0, 0, 0.15);\n",
              "      filter: drop-shadow(0px 1px 2px rgba(0, 0, 0, 0.3));\n",
              "      fill: #FFFFFF;\n",
              "    }\n",
              "  </style>\n",
              "\n",
              "      <script>\n",
              "        const buttonEl =\n",
              "          document.querySelector('#df-33316b81-e51f-4b17-81eb-e928f8d8f1cc button.colab-df-convert');\n",
              "        buttonEl.style.display =\n",
              "          google.colab.kernel.accessAllowed ? 'block' : 'none';\n",
              "\n",
              "        async function convertToInteractive(key) {\n",
              "          const element = document.querySelector('#df-33316b81-e51f-4b17-81eb-e928f8d8f1cc');\n",
              "          const dataTable =\n",
              "            await google.colab.kernel.invokeFunction('convertToInteractive',\n",
              "                                                     [key], {});\n",
              "          if (!dataTable) return;\n",
              "\n",
              "          const docLinkHtml = 'Like what you see? Visit the ' +\n",
              "            '<a target=\"_blank\" href=https://colab.research.google.com/notebooks/data_table.ipynb>data table notebook</a>'\n",
              "            + ' to learn more about interactive tables.';\n",
              "          element.innerHTML = '';\n",
              "          dataTable['output_type'] = 'display_data';\n",
              "          await google.colab.output.renderOutput(dataTable, element);\n",
              "          const docLink = document.createElement('div');\n",
              "          docLink.innerHTML = docLinkHtml;\n",
              "          element.appendChild(docLink);\n",
              "        }\n",
              "      </script>\n",
              "    </div>\n",
              "  </div>\n",
              "  "
            ]
          },
          "metadata": {},
          "execution_count": 5
        }
      ]
    },
    {
      "cell_type": "code",
      "source": [
        "# it displays numerical data each column\n",
        "df.describe()"
      ],
      "metadata": {
        "colab": {
          "base_uri": "https://localhost:8080/",
          "height": 300
        },
        "id": "Xm7GBnA5GjVG",
        "outputId": "5da29aa9-e881-4825-802e-f25519491f3b"
      },
      "execution_count": null,
      "outputs": [
        {
          "output_type": "execute_result",
          "data": {
            "text/plain": [
              "            value\n",
              "count  204.000000\n",
              "mean    10.694430\n",
              "std      5.956998\n",
              "min      2.814520\n",
              "25%      5.844095\n",
              "50%      9.319345\n",
              "75%     14.289964\n",
              "max     29.665356"
            ],
            "text/html": [
              "\n",
              "  <div id=\"df-b6e99b6c-ee47-4236-b6f9-228275d231d5\">\n",
              "    <div class=\"colab-df-container\">\n",
              "      <div>\n",
              "<style scoped>\n",
              "    .dataframe tbody tr th:only-of-type {\n",
              "        vertical-align: middle;\n",
              "    }\n",
              "\n",
              "    .dataframe tbody tr th {\n",
              "        vertical-align: top;\n",
              "    }\n",
              "\n",
              "    .dataframe thead th {\n",
              "        text-align: right;\n",
              "    }\n",
              "</style>\n",
              "<table border=\"1\" class=\"dataframe\">\n",
              "  <thead>\n",
              "    <tr style=\"text-align: right;\">\n",
              "      <th></th>\n",
              "      <th>value</th>\n",
              "    </tr>\n",
              "  </thead>\n",
              "  <tbody>\n",
              "    <tr>\n",
              "      <th>count</th>\n",
              "      <td>204.000000</td>\n",
              "    </tr>\n",
              "    <tr>\n",
              "      <th>mean</th>\n",
              "      <td>10.694430</td>\n",
              "    </tr>\n",
              "    <tr>\n",
              "      <th>std</th>\n",
              "      <td>5.956998</td>\n",
              "    </tr>\n",
              "    <tr>\n",
              "      <th>min</th>\n",
              "      <td>2.814520</td>\n",
              "    </tr>\n",
              "    <tr>\n",
              "      <th>25%</th>\n",
              "      <td>5.844095</td>\n",
              "    </tr>\n",
              "    <tr>\n",
              "      <th>50%</th>\n",
              "      <td>9.319345</td>\n",
              "    </tr>\n",
              "    <tr>\n",
              "      <th>75%</th>\n",
              "      <td>14.289964</td>\n",
              "    </tr>\n",
              "    <tr>\n",
              "      <th>max</th>\n",
              "      <td>29.665356</td>\n",
              "    </tr>\n",
              "  </tbody>\n",
              "</table>\n",
              "</div>\n",
              "      <button class=\"colab-df-convert\" onclick=\"convertToInteractive('df-b6e99b6c-ee47-4236-b6f9-228275d231d5')\"\n",
              "              title=\"Convert this dataframe to an interactive table.\"\n",
              "              style=\"display:none;\">\n",
              "        \n",
              "  <svg xmlns=\"http://www.w3.org/2000/svg\" height=\"24px\"viewBox=\"0 0 24 24\"\n",
              "       width=\"24px\">\n",
              "    <path d=\"M0 0h24v24H0V0z\" fill=\"none\"/>\n",
              "    <path d=\"M18.56 5.44l.94 2.06.94-2.06 2.06-.94-2.06-.94-.94-2.06-.94 2.06-2.06.94zm-11 1L8.5 8.5l.94-2.06 2.06-.94-2.06-.94L8.5 2.5l-.94 2.06-2.06.94zm10 10l.94 2.06.94-2.06 2.06-.94-2.06-.94-.94-2.06-.94 2.06-2.06.94z\"/><path d=\"M17.41 7.96l-1.37-1.37c-.4-.4-.92-.59-1.43-.59-.52 0-1.04.2-1.43.59L10.3 9.45l-7.72 7.72c-.78.78-.78 2.05 0 2.83L4 21.41c.39.39.9.59 1.41.59.51 0 1.02-.2 1.41-.59l7.78-7.78 2.81-2.81c.8-.78.8-2.07 0-2.86zM5.41 20L4 18.59l7.72-7.72 1.47 1.35L5.41 20z\"/>\n",
              "  </svg>\n",
              "      </button>\n",
              "      \n",
              "  <style>\n",
              "    .colab-df-container {\n",
              "      display:flex;\n",
              "      flex-wrap:wrap;\n",
              "      gap: 12px;\n",
              "    }\n",
              "\n",
              "    .colab-df-convert {\n",
              "      background-color: #E8F0FE;\n",
              "      border: none;\n",
              "      border-radius: 50%;\n",
              "      cursor: pointer;\n",
              "      display: none;\n",
              "      fill: #1967D2;\n",
              "      height: 32px;\n",
              "      padding: 0 0 0 0;\n",
              "      width: 32px;\n",
              "    }\n",
              "\n",
              "    .colab-df-convert:hover {\n",
              "      background-color: #E2EBFA;\n",
              "      box-shadow: 0px 1px 2px rgba(60, 64, 67, 0.3), 0px 1px 3px 1px rgba(60, 64, 67, 0.15);\n",
              "      fill: #174EA6;\n",
              "    }\n",
              "\n",
              "    [theme=dark] .colab-df-convert {\n",
              "      background-color: #3B4455;\n",
              "      fill: #D2E3FC;\n",
              "    }\n",
              "\n",
              "    [theme=dark] .colab-df-convert:hover {\n",
              "      background-color: #434B5C;\n",
              "      box-shadow: 0px 1px 3px 1px rgba(0, 0, 0, 0.15);\n",
              "      filter: drop-shadow(0px 1px 2px rgba(0, 0, 0, 0.3));\n",
              "      fill: #FFFFFF;\n",
              "    }\n",
              "  </style>\n",
              "\n",
              "      <script>\n",
              "        const buttonEl =\n",
              "          document.querySelector('#df-b6e99b6c-ee47-4236-b6f9-228275d231d5 button.colab-df-convert');\n",
              "        buttonEl.style.display =\n",
              "          google.colab.kernel.accessAllowed ? 'block' : 'none';\n",
              "\n",
              "        async function convertToInteractive(key) {\n",
              "          const element = document.querySelector('#df-b6e99b6c-ee47-4236-b6f9-228275d231d5');\n",
              "          const dataTable =\n",
              "            await google.colab.kernel.invokeFunction('convertToInteractive',\n",
              "                                                     [key], {});\n",
              "          if (!dataTable) return;\n",
              "\n",
              "          const docLinkHtml = 'Like what you see? Visit the ' +\n",
              "            '<a target=\"_blank\" href=https://colab.research.google.com/notebooks/data_table.ipynb>data table notebook</a>'\n",
              "            + ' to learn more about interactive tables.';\n",
              "          element.innerHTML = '';\n",
              "          dataTable['output_type'] = 'display_data';\n",
              "          await google.colab.output.renderOutput(dataTable, element);\n",
              "          const docLink = document.createElement('div');\n",
              "          docLink.innerHTML = docLinkHtml;\n",
              "          element.appendChild(docLink);\n",
              "        }\n",
              "      </script>\n",
              "    </div>\n",
              "  </div>\n",
              "  "
            ]
          },
          "metadata": {},
          "execution_count": 6
        }
      ]
    },
    {
      "cell_type": "code",
      "source": [
        "df.dtypes"
      ],
      "metadata": {
        "colab": {
          "base_uri": "https://localhost:8080/"
        },
        "id": "t7_yc_NkGiTB",
        "outputId": "3eec403a-fdde-41c0-a17f-7d5bfe7d36b5"
      },
      "execution_count": null,
      "outputs": [
        {
          "output_type": "execute_result",
          "data": {
            "text/plain": [
              "date      object\n",
              "value    float64\n",
              "dtype: object"
            ]
          },
          "metadata": {},
          "execution_count": 7
        }
      ]
    },
    {
      "cell_type": "code",
      "source": [
        "df['date'] = df['date'].astype('datetime64')\n",
        "df = df.sort_values('date')\n",
        "df.set_index('date', inplace=True)\n",
        "df"
      ],
      "metadata": {
        "colab": {
          "base_uri": "https://localhost:8080/",
          "height": 455
        },
        "id": "YJQCd_bYGvKp",
        "outputId": "89b2c45f-c85e-45c1-8303-91e0acb35a0c"
      },
      "execution_count": null,
      "outputs": [
        {
          "output_type": "execute_result",
          "data": {
            "text/plain": [
              "                value\n",
              "date                 \n",
              "1991-07-01   3.526591\n",
              "1991-08-01   3.180891\n",
              "1991-09-01   3.252221\n",
              "1991-10-01   3.611003\n",
              "1991-11-01   3.565869\n",
              "...               ...\n",
              "2008-02-01  21.654285\n",
              "2008-03-01  18.264945\n",
              "2008-04-01  23.107677\n",
              "2008-05-01  22.912510\n",
              "2008-06-01  19.431740\n",
              "\n",
              "[204 rows x 1 columns]"
            ],
            "text/html": [
              "\n",
              "  <div id=\"df-78e6908f-dffd-42ca-8c83-edeb77d5bf99\">\n",
              "    <div class=\"colab-df-container\">\n",
              "      <div>\n",
              "<style scoped>\n",
              "    .dataframe tbody tr th:only-of-type {\n",
              "        vertical-align: middle;\n",
              "    }\n",
              "\n",
              "    .dataframe tbody tr th {\n",
              "        vertical-align: top;\n",
              "    }\n",
              "\n",
              "    .dataframe thead th {\n",
              "        text-align: right;\n",
              "    }\n",
              "</style>\n",
              "<table border=\"1\" class=\"dataframe\">\n",
              "  <thead>\n",
              "    <tr style=\"text-align: right;\">\n",
              "      <th></th>\n",
              "      <th>value</th>\n",
              "    </tr>\n",
              "    <tr>\n",
              "      <th>date</th>\n",
              "      <th></th>\n",
              "    </tr>\n",
              "  </thead>\n",
              "  <tbody>\n",
              "    <tr>\n",
              "      <th>1991-07-01</th>\n",
              "      <td>3.526591</td>\n",
              "    </tr>\n",
              "    <tr>\n",
              "      <th>1991-08-01</th>\n",
              "      <td>3.180891</td>\n",
              "    </tr>\n",
              "    <tr>\n",
              "      <th>1991-09-01</th>\n",
              "      <td>3.252221</td>\n",
              "    </tr>\n",
              "    <tr>\n",
              "      <th>1991-10-01</th>\n",
              "      <td>3.611003</td>\n",
              "    </tr>\n",
              "    <tr>\n",
              "      <th>1991-11-01</th>\n",
              "      <td>3.565869</td>\n",
              "    </tr>\n",
              "    <tr>\n",
              "      <th>...</th>\n",
              "      <td>...</td>\n",
              "    </tr>\n",
              "    <tr>\n",
              "      <th>2008-02-01</th>\n",
              "      <td>21.654285</td>\n",
              "    </tr>\n",
              "    <tr>\n",
              "      <th>2008-03-01</th>\n",
              "      <td>18.264945</td>\n",
              "    </tr>\n",
              "    <tr>\n",
              "      <th>2008-04-01</th>\n",
              "      <td>23.107677</td>\n",
              "    </tr>\n",
              "    <tr>\n",
              "      <th>2008-05-01</th>\n",
              "      <td>22.912510</td>\n",
              "    </tr>\n",
              "    <tr>\n",
              "      <th>2008-06-01</th>\n",
              "      <td>19.431740</td>\n",
              "    </tr>\n",
              "  </tbody>\n",
              "</table>\n",
              "<p>204 rows × 1 columns</p>\n",
              "</div>\n",
              "      <button class=\"colab-df-convert\" onclick=\"convertToInteractive('df-78e6908f-dffd-42ca-8c83-edeb77d5bf99')\"\n",
              "              title=\"Convert this dataframe to an interactive table.\"\n",
              "              style=\"display:none;\">\n",
              "        \n",
              "  <svg xmlns=\"http://www.w3.org/2000/svg\" height=\"24px\"viewBox=\"0 0 24 24\"\n",
              "       width=\"24px\">\n",
              "    <path d=\"M0 0h24v24H0V0z\" fill=\"none\"/>\n",
              "    <path d=\"M18.56 5.44l.94 2.06.94-2.06 2.06-.94-2.06-.94-.94-2.06-.94 2.06-2.06.94zm-11 1L8.5 8.5l.94-2.06 2.06-.94-2.06-.94L8.5 2.5l-.94 2.06-2.06.94zm10 10l.94 2.06.94-2.06 2.06-.94-2.06-.94-.94-2.06-.94 2.06-2.06.94z\"/><path d=\"M17.41 7.96l-1.37-1.37c-.4-.4-.92-.59-1.43-.59-.52 0-1.04.2-1.43.59L10.3 9.45l-7.72 7.72c-.78.78-.78 2.05 0 2.83L4 21.41c.39.39.9.59 1.41.59.51 0 1.02-.2 1.41-.59l7.78-7.78 2.81-2.81c.8-.78.8-2.07 0-2.86zM5.41 20L4 18.59l7.72-7.72 1.47 1.35L5.41 20z\"/>\n",
              "  </svg>\n",
              "      </button>\n",
              "      \n",
              "  <style>\n",
              "    .colab-df-container {\n",
              "      display:flex;\n",
              "      flex-wrap:wrap;\n",
              "      gap: 12px;\n",
              "    }\n",
              "\n",
              "    .colab-df-convert {\n",
              "      background-color: #E8F0FE;\n",
              "      border: none;\n",
              "      border-radius: 50%;\n",
              "      cursor: pointer;\n",
              "      display: none;\n",
              "      fill: #1967D2;\n",
              "      height: 32px;\n",
              "      padding: 0 0 0 0;\n",
              "      width: 32px;\n",
              "    }\n",
              "\n",
              "    .colab-df-convert:hover {\n",
              "      background-color: #E2EBFA;\n",
              "      box-shadow: 0px 1px 2px rgba(60, 64, 67, 0.3), 0px 1px 3px 1px rgba(60, 64, 67, 0.15);\n",
              "      fill: #174EA6;\n",
              "    }\n",
              "\n",
              "    [theme=dark] .colab-df-convert {\n",
              "      background-color: #3B4455;\n",
              "      fill: #D2E3FC;\n",
              "    }\n",
              "\n",
              "    [theme=dark] .colab-df-convert:hover {\n",
              "      background-color: #434B5C;\n",
              "      box-shadow: 0px 1px 3px 1px rgba(0, 0, 0, 0.15);\n",
              "      filter: drop-shadow(0px 1px 2px rgba(0, 0, 0, 0.3));\n",
              "      fill: #FFFFFF;\n",
              "    }\n",
              "  </style>\n",
              "\n",
              "      <script>\n",
              "        const buttonEl =\n",
              "          document.querySelector('#df-78e6908f-dffd-42ca-8c83-edeb77d5bf99 button.colab-df-convert');\n",
              "        buttonEl.style.display =\n",
              "          google.colab.kernel.accessAllowed ? 'block' : 'none';\n",
              "\n",
              "        async function convertToInteractive(key) {\n",
              "          const element = document.querySelector('#df-78e6908f-dffd-42ca-8c83-edeb77d5bf99');\n",
              "          const dataTable =\n",
              "            await google.colab.kernel.invokeFunction('convertToInteractive',\n",
              "                                                     [key], {});\n",
              "          if (!dataTable) return;\n",
              "\n",
              "          const docLinkHtml = 'Like what you see? Visit the ' +\n",
              "            '<a target=\"_blank\" href=https://colab.research.google.com/notebooks/data_table.ipynb>data table notebook</a>'\n",
              "            + ' to learn more about interactive tables.';\n",
              "          element.innerHTML = '';\n",
              "          dataTable['output_type'] = 'display_data';\n",
              "          await google.colab.output.renderOutput(dataTable, element);\n",
              "          const docLink = document.createElement('div');\n",
              "          docLink.innerHTML = docLinkHtml;\n",
              "          element.appendChild(docLink);\n",
              "        }\n",
              "      </script>\n",
              "    </div>\n",
              "  </div>\n",
              "  "
            ]
          },
          "metadata": {},
          "execution_count": 8
        }
      ]
    },
    {
      "cell_type": "code",
      "source": [
        "df.shape"
      ],
      "metadata": {
        "colab": {
          "base_uri": "https://localhost:8080/"
        },
        "id": "kgOral8fG8Pz",
        "outputId": "1525bf58-7260-47a3-e2a1-eb0e55f40ee4"
      },
      "execution_count": null,
      "outputs": [
        {
          "output_type": "execute_result",
          "data": {
            "text/plain": [
              "(204, 1)"
            ]
          },
          "metadata": {},
          "execution_count": 9
        }
      ]
    },
    {
      "cell_type": "code",
      "source": [
        "plt.plot(df,color='olive')"
      ],
      "metadata": {
        "colab": {
          "base_uri": "https://localhost:8080/",
          "height": 282
        },
        "id": "lCzEiLopHHKS",
        "outputId": "45d5a63c-080b-4a23-fccd-0cb02b3628a7"
      },
      "execution_count": null,
      "outputs": [
        {
          "output_type": "execute_result",
          "data": {
            "text/plain": [
              "[<matplotlib.lines.Line2D at 0x7f5e50fe31f0>]"
            ]
          },
          "metadata": {},
          "execution_count": 10
        },
        {
          "output_type": "display_data",
          "data": {
            "text/plain": [
              "<Figure size 432x288 with 1 Axes>"
            ],
            "image/png": "[encoded data removed]"
          },
          "metadata": {
            "needs_background": "light"
          }
        }
      ]
    },
    {
      "cell_type": "code",
      "source": [
        "from statsmodels.graphics.tsaplots import plot_pacf ,plot_acf\n",
        "\n",
        "plot_acf(df)"
      ],
      "metadata": {
        "colab": {
          "base_uri": "https://localhost:8080/",
          "height": 545
        },
        "id": "krqgjrNpaawj",
        "outputId": "bc2db119-9eec-4a59-bb8c-34a7b809afcf"
      },
      "execution_count": null,
      "outputs": [
        {
          "output_type": "execute_result",
          "data": {
            "text/plain": [
              "<Figure size 432x288 with 1 Axes>"
            ],
            "image/png": "[encoded data removed]"
          },
          "metadata": {},
          "execution_count": 11
        },
        {
          "output_type": "display_data",
          "data": {
            "text/plain": [
              "<Figure size 432x288 with 1 Axes>"
            ],
            "image/png": "[encoded data removed]"
          },
          "metadata": {
            "needs_background": "light"
          }
        }
      ]
    },
    {
      "cell_type": "code",
      "source": [
        "plot_acf(df)"
      ],
      "metadata": {
        "colab": {
          "base_uri": "https://localhost:8080/",
          "height": 545
        },
        "id": "Ushw33v2aj8-",
        "outputId": "986ffda1-c9c7-48ef-bb4c-82d1c7248fa0"
      },
      "execution_count": null,
      "outputs": [
        {
          "output_type": "execute_result",
          "data": {
            "text/plain": [
              "<Figure size 432x288 with 1 Axes>"
            ],
            "image/png": "[encoded data removed]"
          },
          "metadata": {},
          "execution_count": 12
        },
        {
          "output_type": "display_data",
          "data": {
            "text/plain": [
              "<Figure size 432x288 with 1 Axes>"
            ],
            "image/png": "[encoded data removed]"
          },
          "metadata": {
            "needs_background": "light"
          }
        }
      ]
    },
    {
      "cell_type": "markdown",
      "source": [
        "# ETS decomposition on the data"
      ],
      "metadata": {
        "id": "8O8UkVZmHMTW"
      }
    },
    {
      "cell_type": "code",
      "source": [
        "# For liner data we us additive model\n",
        "\n",
        "from statsmodels.tsa.seasonal import seasonal_decompose\n",
        "\n",
        "result = seasonal_decompose(df, model='additive')\n",
        "res = pd.DataFrame()\n",
        "res['Trend'] = result.trend\n",
        "res['Seaonality'] = result.seasonal\n",
        "res['Residual'] = result.resid\n",
        "res['Observed'] = result.observed\n",
        "res['Actual'] = df.iloc[:, 0]\n",
        "res.head()"
      ],
      "metadata": {
        "colab": {
          "base_uri": "https://localhost:8080/",
          "height": 237
        },
        "id": "6FIE74iIHNE-",
        "outputId": "17b72dbc-b2de-4fe3-94ff-3e5eb2cacfb0"
      },
      "execution_count": null,
      "outputs": [
        {
          "output_type": "execute_result",
          "data": {
            "text/plain": [
              "            Trend  Seaonality  Residual  Observed    Actual\n",
              "date                                                       \n",
              "1991-07-01    NaN   -0.227809       NaN  3.526591  3.526591\n",
              "1991-08-01    NaN   -0.023116       NaN  3.180891  3.180891\n",
              "1991-09-01    NaN   -0.149022       NaN  3.252221  3.252221\n",
              "1991-10-01    NaN    0.569161       NaN  3.611003  3.611003\n",
              "1991-11-01    NaN    0.966836       NaN  3.565869  3.565869"
            ],
            "text/html": [
              "\n",
              "  <div id=\"df-42eeb4b3-e6c8-431e-ad54-9a70188259b6\">\n",
              "    <div class=\"colab-df-container\">\n",
              "      <div>\n",
              "<style scoped>\n",
              "    .dataframe tbody tr th:only-of-type {\n",
              "        vertical-align: middle;\n",
              "    }\n",
              "\n",
              "    .dataframe tbody tr th {\n",
              "        vertical-align: top;\n",
              "    }\n",
              "\n",
              "    .dataframe thead th {\n",
              "        text-align: right;\n",
              "    }\n",
              "</style>\n",
              "<table border=\"1\" class=\"dataframe\">\n",
              "  <thead>\n",
              "    <tr style=\"text-align: right;\">\n",
              "      <th></th>\n",
              "      <th>Trend</th>\n",
              "      <th>Seaonality</th>\n",
              "      <th>Residual</th>\n",
              "      <th>Observed</th>\n",
              "      <th>Actual</th>\n",
              "    </tr>\n",
              "    <tr>\n",
              "      <th>date</th>\n",
              "      <th></th>\n",
              "      <th></th>\n",
              "      <th></th>\n",
              "      <th></th>\n",
              "      <th></th>\n",
              "    </tr>\n",
              "  </thead>\n",
              "  <tbody>\n",
              "    <tr>\n",
              "      <th>1991-07-01</th>\n",
              "      <td>NaN</td>\n",
              "      <td>-0.227809</td>\n",
              "      <td>NaN</td>\n",
              "      <td>3.526591</td>\n",
              "      <td>3.526591</td>\n",
              "    </tr>\n",
              "    <tr>\n",
              "      <th>1991-08-01</th>\n",
              "      <td>NaN</td>\n",
              "      <td>-0.023116</td>\n",
              "      <td>NaN</td>\n",
              "      <td>3.180891</td>\n",
              "      <td>3.180891</td>\n",
              "    </tr>\n",
              "    <tr>\n",
              "      <th>1991-09-01</th>\n",
              "      <td>NaN</td>\n",
              "      <td>-0.149022</td>\n",
              "      <td>NaN</td>\n",
              "      <td>3.252221</td>\n",
              "      <td>3.252221</td>\n",
              "    </tr>\n",
              "    <tr>\n",
              "      <th>1991-10-01</th>\n",
              "      <td>NaN</td>\n",
              "      <td>0.569161</td>\n",
              "      <td>NaN</td>\n",
              "      <td>3.611003</td>\n",
              "      <td>3.611003</td>\n",
              "    </tr>\n",
              "    <tr>\n",
              "      <th>1991-11-01</th>\n",
              "      <td>NaN</td>\n",
              "      <td>0.966836</td>\n",
              "      <td>NaN</td>\n",
              "      <td>3.565869</td>\n",
              "      <td>3.565869</td>\n",
              "    </tr>\n",
              "  </tbody>\n",
              "</table>\n",
              "</div>\n",
              "      <button class=\"colab-df-convert\" onclick=\"convertToInteractive('df-42eeb4b3-e6c8-431e-ad54-9a70188259b6')\"\n",
              "              title=\"Convert this dataframe to an interactive table.\"\n",
              "              style=\"display:none;\">\n",
              "        \n",
              "  <svg xmlns=\"http://www.w3.org/2000/svg\" height=\"24px\"viewBox=\"0 0 24 24\"\n",
              "       width=\"24px\">\n",
              "    <path d=\"M0 0h24v24H0V0z\" fill=\"none\"/>\n",
              "    <path d=\"M18.56 5.44l.94 2.06.94-2.06 2.06-.94-2.06-.94-.94-2.06-.94 2.06-2.06.94zm-11 1L8.5 8.5l.94-2.06 2.06-.94-2.06-.94L8.5 2.5l-.94 2.06-2.06.94zm10 10l.94 2.06.94-2.06 2.06-.94-2.06-.94-.94-2.06-.94 2.06-2.06.94z\"/><path d=\"M17.41 7.96l-1.37-1.37c-.4-.4-.92-.59-1.43-.59-.52 0-1.04.2-1.43.59L10.3 9.45l-7.72 7.72c-.78.78-.78 2.05 0 2.83L4 21.41c.39.39.9.59 1.41.59.51 0 1.02-.2 1.41-.59l7.78-7.78 2.81-2.81c.8-.78.8-2.07 0-2.86zM5.41 20L4 18.59l7.72-7.72 1.47 1.35L5.41 20z\"/>\n",
              "  </svg>\n",
              "      </button>\n",
              "      \n",
              "  <style>\n",
              "    .colab-df-container {\n",
              "      display:flex;\n",
              "      flex-wrap:wrap;\n",
              "      gap: 12px;\n",
              "    }\n",
              "\n",
              "    .colab-df-convert {\n",
              "      background-color: #E8F0FE;\n",
              "      border: none;\n",
              "      border-radius: 50%;\n",
              "      cursor: pointer;\n",
              "      display: none;\n",
              "      fill: #1967D2;\n",
              "      height: 32px;\n",
              "      padding: 0 0 0 0;\n",
              "      width: 32px;\n",
              "    }\n",
              "\n",
              "    .colab-df-convert:hover {\n",
              "      background-color: #E2EBFA;\n",
              "      box-shadow: 0px 1px 2px rgba(60, 64, 67, 0.3), 0px 1px 3px 1px rgba(60, 64, 67, 0.15);\n",
              "      fill: #174EA6;\n",
              "    }\n",
              "\n",
              "    [theme=dark] .colab-df-convert {\n",
              "      background-color: #3B4455;\n",
              "      fill: #D2E3FC;\n",
              "    }\n",
              "\n",
              "    [theme=dark] .colab-df-convert:hover {\n",
              "      background-color: #434B5C;\n",
              "      box-shadow: 0px 1px 3px 1px rgba(0, 0, 0, 0.15);\n",
              "      filter: drop-shadow(0px 1px 2px rgba(0, 0, 0, 0.3));\n",
              "      fill: #FFFFFF;\n",
              "    }\n",
              "  </style>\n",
              "\n",
              "      <script>\n",
              "        const buttonEl =\n",
              "          document.querySelector('#df-42eeb4b3-e6c8-431e-ad54-9a70188259b6 button.colab-df-convert');\n",
              "        buttonEl.style.display =\n",
              "          google.colab.kernel.accessAllowed ? 'block' : 'none';\n",
              "\n",
              "        async function convertToInteractive(key) {\n",
              "          const element = document.querySelector('#df-42eeb4b3-e6c8-431e-ad54-9a70188259b6');\n",
              "          const dataTable =\n",
              "            await google.colab.kernel.invokeFunction('convertToInteractive',\n",
              "                                                     [key], {});\n",
              "          if (!dataTable) return;\n",
              "\n",
              "          const docLinkHtml = 'Like what you see? Visit the ' +\n",
              "            '<a target=\"_blank\" href=https://colab.research.google.com/notebooks/data_table.ipynb>data table notebook</a>'\n",
              "            + ' to learn more about interactive tables.';\n",
              "          element.innerHTML = '';\n",
              "          dataTable['output_type'] = 'display_data';\n",
              "          await google.colab.output.renderOutput(dataTable, element);\n",
              "          const docLink = document.createElement('div');\n",
              "          docLink.innerHTML = docLinkHtml;\n",
              "          element.appendChild(docLink);\n",
              "        }\n",
              "      </script>\n",
              "    </div>\n",
              "  </div>\n",
              "  "
            ]
          },
          "metadata": {},
          "execution_count": 13
        }
      ]
    },
    {
      "cell_type": "code",
      "source": [
        "import matplotlib.pyplot as plt\n",
        "result.plot()\n",
        "plt.show()"
      ],
      "metadata": {
        "colab": {
          "base_uri": "https://localhost:8080/",
          "height": 298
        },
        "id": "j5ErNAEAHRR9",
        "outputId": "6f74db72-f4d4-402c-b78e-712d05209102"
      },
      "execution_count": null,
      "outputs": [
        {
          "output_type": "display_data",
          "data": {
            "text/plain": [
              "<Figure size 432x288 with 4 Axes>"
            ],
            "image/png": "[encoded data removed]"
          },
          "metadata": {
            "needs_background": "light"
          }
        }
      ]
    },
    {
      "cell_type": "code",
      "source": [
        "# For Non liner data we us multiplicative model\n",
        "\n",
        "from statsmodels.tsa.seasonal import seasonal_decompose\n",
        "\n",
        "result = seasonal_decompose(df, model='multiplicative')\n",
        "res = pd.DataFrame()\n",
        "res['Trend'] = result.trend\n",
        "res['Seaonality'] = result.seasonal\n",
        "res['Residual'] = result.resid\n",
        "res['Observed'] = result.observed\n",
        "res['Actual'] = df.iloc[:, 0]\n",
        "res.head()"
      ],
      "metadata": {
        "colab": {
          "base_uri": "https://localhost:8080/",
          "height": 237
        },
        "id": "f6VHjcG3HePN",
        "outputId": "ed93d35f-66b8-4fc7-80bc-2e7b3fb758b7"
      },
      "execution_count": null,
      "outputs": [
        {
          "output_type": "execute_result",
          "data": {
            "text/plain": [
              "            Trend  Seaonality  Residual  Observed    Actual\n",
              "date                                                       \n",
              "1991-07-01    NaN    0.978509       NaN  3.526591  3.526591\n",
              "1991-08-01    NaN    0.989722       NaN  3.180891  3.180891\n",
              "1991-09-01    NaN    0.986418       NaN  3.252221  3.252221\n",
              "1991-10-01    NaN    1.045509       NaN  3.611003  3.611003\n",
              "1991-11-01    NaN    1.075573       NaN  3.565869  3.565869"
            ],
            "text/html": [
              "\n",
              "  <div id=\"df-4227a62b-8f9b-479e-9af3-503d4d4427e3\">\n",
              "    <div class=\"colab-df-container\">\n",
              "      <div>\n",
              "<style scoped>\n",
              "    .dataframe tbody tr th:only-of-type {\n",
              "        vertical-align: middle;\n",
              "    }\n",
              "\n",
              "    .dataframe tbody tr th {\n",
              "        vertical-align: top;\n",
              "    }\n",
              "\n",
              "    .dataframe thead th {\n",
              "        text-align: right;\n",
              "    }\n",
              "</style>\n",
              "<table border=\"1\" class=\"dataframe\">\n",
              "  <thead>\n",
              "    <tr style=\"text-align: right;\">\n",
              "      <th></th>\n",
              "      <th>Trend</th>\n",
              "      <th>Seaonality</th>\n",
              "      <th>Residual</th>\n",
              "      <th>Observed</th>\n",
              "      <th>Actual</th>\n",
              "    </tr>\n",
              "    <tr>\n",
              "      <th>date</th>\n",
              "      <th></th>\n",
              "      <th></th>\n",
              "      <th></th>\n",
              "      <th></th>\n",
              "      <th></th>\n",
              "    </tr>\n",
              "  </thead>\n",
              "  <tbody>\n",
              "    <tr>\n",
              "      <th>1991-07-01</th>\n",
              "      <td>NaN</td>\n",
              "      <td>0.978509</td>\n",
              "      <td>NaN</td>\n",
              "      <td>3.526591</td>\n",
              "      <td>3.526591</td>\n",
              "    </tr>\n",
              "    <tr>\n",
              "      <th>1991-08-01</th>\n",
              "      <td>NaN</td>\n",
              "      <td>0.989722</td>\n",
              "      <td>NaN</td>\n",
              "      <td>3.180891</td>\n",
              "      <td>3.180891</td>\n",
              "    </tr>\n",
              "    <tr>\n",
              "      <th>1991-09-01</th>\n",
              "      <td>NaN</td>\n",
              "      <td>0.986418</td>\n",
              "      <td>NaN</td>\n",
              "      <td>3.252221</td>\n",
              "      <td>3.252221</td>\n",
              "    </tr>\n",
              "    <tr>\n",
              "      <th>1991-10-01</th>\n",
              "      <td>NaN</td>\n",
              "      <td>1.045509</td>\n",
              "      <td>NaN</td>\n",
              "      <td>3.611003</td>\n",
              "      <td>3.611003</td>\n",
              "    </tr>\n",
              "    <tr>\n",
              "      <th>1991-11-01</th>\n",
              "      <td>NaN</td>\n",
              "      <td>1.075573</td>\n",
              "      <td>NaN</td>\n",
              "      <td>3.565869</td>\n",
              "      <td>3.565869</td>\n",
              "    </tr>\n",
              "  </tbody>\n",
              "</table>\n",
              "</div>\n",
              "      <button class=\"colab-df-convert\" onclick=\"convertToInteractive('df-4227a62b-8f9b-479e-9af3-503d4d4427e3')\"\n",
              "              title=\"Convert this dataframe to an interactive table.\"\n",
              "              style=\"display:none;\">\n",
              "        \n",
              "  <svg xmlns=\"http://www.w3.org/2000/svg\" height=\"24px\"viewBox=\"0 0 24 24\"\n",
              "       width=\"24px\">\n",
              "    <path d=\"M0 0h24v24H0V0z\" fill=\"none\"/>\n",
              "    <path d=\"M18.56 5.44l.94 2.06.94-2.06 2.06-.94-2.06-.94-.94-2.06-.94 2.06-2.06.94zm-11 1L8.5 8.5l.94-2.06 2.06-.94-2.06-.94L8.5 2.5l-.94 2.06-2.06.94zm10 10l.94 2.06.94-2.06 2.06-.94-2.06-.94-.94-2.06-.94 2.06-2.06.94z\"/><path d=\"M17.41 7.96l-1.37-1.37c-.4-.4-.92-.59-1.43-.59-.52 0-1.04.2-1.43.59L10.3 9.45l-7.72 7.72c-.78.78-.78 2.05 0 2.83L4 21.41c.39.39.9.59 1.41.59.51 0 1.02-.2 1.41-.59l7.78-7.78 2.81-2.81c.8-.78.8-2.07 0-2.86zM5.41 20L4 18.59l7.72-7.72 1.47 1.35L5.41 20z\"/>\n",
              "  </svg>\n",
              "      </button>\n",
              "      \n",
              "  <style>\n",
              "    .colab-df-container {\n",
              "      display:flex;\n",
              "      flex-wrap:wrap;\n",
              "      gap: 12px;\n",
              "    }\n",
              "\n",
              "    .colab-df-convert {\n",
              "      background-color: #E8F0FE;\n",
              "      border: none;\n",
              "      border-radius: 50%;\n",
              "      cursor: pointer;\n",
              "      display: none;\n",
              "      fill: #1967D2;\n",
              "      height: 32px;\n",
              "      padding: 0 0 0 0;\n",
              "      width: 32px;\n",
              "    }\n",
              "\n",
              "    .colab-df-convert:hover {\n",
              "      background-color: #E2EBFA;\n",
              "      box-shadow: 0px 1px 2px rgba(60, 64, 67, 0.3), 0px 1px 3px 1px rgba(60, 64, 67, 0.15);\n",
              "      fill: #174EA6;\n",
              "    }\n",
              "\n",
              "    [theme=dark] .colab-df-convert {\n",
              "      background-color: #3B4455;\n",
              "      fill: #D2E3FC;\n",
              "    }\n",
              "\n",
              "    [theme=dark] .colab-df-convert:hover {\n",
              "      background-color: #434B5C;\n",
              "      box-shadow: 0px 1px 3px 1px rgba(0, 0, 0, 0.15);\n",
              "      filter: drop-shadow(0px 1px 2px rgba(0, 0, 0, 0.3));\n",
              "      fill: #FFFFFF;\n",
              "    }\n",
              "  </style>\n",
              "\n",
              "      <script>\n",
              "        const buttonEl =\n",
              "          document.querySelector('#df-4227a62b-8f9b-479e-9af3-503d4d4427e3 button.colab-df-convert');\n",
              "        buttonEl.style.display =\n",
              "          google.colab.kernel.accessAllowed ? 'block' : 'none';\n",
              "\n",
              "        async function convertToInteractive(key) {\n",
              "          const element = document.querySelector('#df-4227a62b-8f9b-479e-9af3-503d4d4427e3');\n",
              "          const dataTable =\n",
              "            await google.colab.kernel.invokeFunction('convertToInteractive',\n",
              "                                                     [key], {});\n",
              "          if (!dataTable) return;\n",
              "\n",
              "          const docLinkHtml = 'Like what you see? Visit the ' +\n",
              "            '<a target=\"_blank\" href=https://colab.research.google.com/notebooks/data_table.ipynb>data table notebook</a>'\n",
              "            + ' to learn more about interactive tables.';\n",
              "          element.innerHTML = '';\n",
              "          dataTable['output_type'] = 'display_data';\n",
              "          await google.colab.output.renderOutput(dataTable, element);\n",
              "          const docLink = document.createElement('div');\n",
              "          docLink.innerHTML = docLinkHtml;\n",
              "          element.appendChild(docLink);\n",
              "        }\n",
              "      </script>\n",
              "    </div>\n",
              "  </div>\n",
              "  "
            ]
          },
          "metadata": {},
          "execution_count": 15
        }
      ]
    },
    {
      "cell_type": "code",
      "source": [
        "import matplotlib.pyplot as plt\n",
        "result.plot()\n",
        "plt.show()"
      ],
      "metadata": {
        "colab": {
          "base_uri": "https://localhost:8080/",
          "height": 298
        },
        "id": "5MelmJa7Hnuq",
        "outputId": "8d067e36-5800-495f-891e-12d137f69211"
      },
      "execution_count": null,
      "outputs": [
        {
          "output_type": "display_data",
          "data": {
            "text/plain": [
              "<Figure size 432x288 with 4 Axes>"
            ],
            "image/png": "[encoded data removed]"
          },
          "metadata": {
            "needs_background": "light"
          }
        }
      ]
    },
    {
      "cell_type": "markdown",
      "source": [
        "### LSTM"
      ],
      "metadata": {
        "id": "dFq0biIkK7SG"
      }
    },
    {
      "cell_type": "code",
      "source": [
        "# convert a dataframe into array\n",
        "dataset=df.values\n",
        "dataset[:5]"
      ],
      "metadata": {
        "colab": {
          "base_uri": "https://localhost:8080/"
        },
        "id": "24oN52AdImiq",
        "outputId": "5c311c8d-97c7-444d-bf26-fb1a588c014a"
      },
      "execution_count": null,
      "outputs": [
        {
          "output_type": "execute_result",
          "data": {
            "text/plain": [
              "array([[3.526591],\n",
              "       [3.180891],\n",
              "       [3.252221],\n",
              "       [3.611003],\n",
              "       [3.565869]])"
            ]
          },
          "metadata": {},
          "execution_count": 17
        }
      ]
    },
    {
      "cell_type": "code",
      "source": [
        "# Normalize the data using MinMaxScaler (0to1)\n",
        "scaler = MinMaxScaler(feature_range=(0,1))\n",
        "dataset = scaler.fit_transform(dataset)\n",
        "dataset[:5]"
      ],
      "metadata": {
        "colab": {
          "base_uri": "https://localhost:8080/"
        },
        "id": "QVTaUvVmIqNS",
        "outputId": "cda91852-e8b1-43fc-befc-ebfd09f11aea"
      },
      "execution_count": null,
      "outputs": [
        {
          "output_type": "execute_result",
          "data": {
            "text/plain": [
              "array([[0.02651951],\n",
              "       [0.01364468],\n",
              "       [0.01630121],\n",
              "       [0.02966325],\n",
              "       [0.02798233]])"
            ]
          },
          "metadata": {},
          "execution_count": 18
        }
      ]
    },
    {
      "cell_type": "code",
      "source": [
        "# Split data into train and test\n",
        "train_size = int(len(dataset)*0.8)\n",
        "train = dataset[:train_size]\n",
        "test = dataset[train_size:]"
      ],
      "metadata": {
        "id": "tbCas06oIwLO"
      },
      "execution_count": null,
      "outputs": []
    },
    {
      "cell_type": "code",
      "source": [
        "# change at data into x,y \n",
        "def create_dataset(dataset, lag):\n",
        "    datax = []\n",
        "    datay = []\n",
        "    for i in range(len(dataset)-lag-1):\n",
        "        a = dataset[i:i+lag, 0]\n",
        "        datax.append(a)\n",
        "        datay.append(dataset[i+lag, 0])\n",
        "    return np.array(datax), np.array(datay)"
      ],
      "metadata": {
        "id": "BPlQyGBBIzDV"
      },
      "execution_count": null,
      "outputs": []
    },
    {
      "cell_type": "code",
      "source": [
        "# set a lag value & create train data and test data\n",
        "lag = 3\n",
        "trainx, trainy = create_dataset(train, lag)\n",
        "testx, testy = create_dataset(test, lag)"
      ],
      "metadata": {
        "id": "W3_9RxE3I6ZR"
      },
      "execution_count": null,
      "outputs": []
    },
    {
      "cell_type": "code",
      "source": [
        "# Our data have proper shape to pass in LSTM \n",
        "trainx = np.reshape(trainx, (trainx.shape[0], 1, \n",
        "                             trainx.shape[1]))\n",
        "testx = np.reshape(testx, (testx.shape[0], 1, testx.shape[1]))"
      ],
      "metadata": {
        "id": "_R9Hm4HxJB2q"
      },
      "execution_count": null,
      "outputs": []
    },
    {
      "cell_type": "code",
      "source": [
        "trainx.shape"
      ],
      "metadata": {
        "colab": {
          "base_uri": "https://localhost:8080/"
        },
        "id": "1aLMeQD0dB5j",
        "outputId": "64401fdb-dab5-496c-d871-dfcc8aeb0660"
      },
      "execution_count": null,
      "outputs": [
        {
          "output_type": "execute_result",
          "data": {
            "text/plain": [
              "(159, 1, 3)"
            ]
          },
          "metadata": {},
          "execution_count": 23
        }
      ]
    },
    {
      "cell_type": "code",
      "source": [
        "# creat a model\n",
        "model = Sequential()\n",
        "model.add(LSTM(4, input_shape=(1, lag)))\n",
        "model.add(Dense(1))\n",
        "model.compile(loss='mean_squared_error', optimizer='adam')\n",
        "model.fit(trainx, trainy, epochs=100, batch_size=1, verbose=2)"
      ],
      "metadata": {
        "colab": {
          "base_uri": "https://localhost:8080/"
        },
        "id": "t6ZA_DJrJEnK",
        "outputId": "2a5e4070-89d3-4917-eac4-f1e61c98157e"
      },
      "execution_count": null,
      "outputs": [
        {
          "output_type": "stream",
          "name": "stdout",
          "text": [
            "Epoch 1/100\n",
            "159/159 - 3s - loss: 0.0168 - 3s/epoch - 18ms/step\n",
            "Epoch 2/100\n",
            "159/159 - 0s - loss: 0.0069 - 306ms/epoch - 2ms/step\n",
            "Epoch 3/100\n",
            "159/159 - 0s - loss: 0.0054 - 322ms/epoch - 2ms/step\n",
            "Epoch 4/100\n",
            "159/159 - 0s - loss: 0.0044 - 375ms/epoch - 2ms/step\n",
            "Epoch 5/100\n",
            "159/159 - 0s - loss: 0.0038 - 489ms/epoch - 3ms/step\n",
            "Epoch 6/100\n",
            "159/159 - 0s - loss: 0.0036 - 441ms/epoch - 3ms/step\n",
            "Epoch 7/100\n",
            "159/159 - 0s - loss: 0.0035 - 463ms/epoch - 3ms/step\n",
            "Epoch 8/100\n",
            "159/159 - 0s - loss: 0.0034 - 486ms/epoch - 3ms/step\n",
            "Epoch 9/100\n",
            "159/159 - 0s - loss: 0.0035 - 485ms/epoch - 3ms/step\n",
            "Epoch 10/100\n",
            "159/159 - 1s - loss: 0.0035 - 510ms/epoch - 3ms/step\n",
            "Epoch 11/100\n",
            "159/159 - 0s - loss: 0.0034 - 424ms/epoch - 3ms/step\n",
            "Epoch 12/100\n",
            "159/159 - 0s - loss: 0.0034 - 484ms/epoch - 3ms/step\n",
            "Epoch 13/100\n",
            "159/159 - 1s - loss: 0.0034 - 505ms/epoch - 3ms/step\n",
            "Epoch 14/100\n",
            "159/159 - 0s - loss: 0.0034 - 326ms/epoch - 2ms/step\n",
            "Epoch 15/100\n",
            "159/159 - 0s - loss: 0.0034 - 315ms/epoch - 2ms/step\n",
            "Epoch 16/100\n",
            "159/159 - 0s - loss: 0.0034 - 315ms/epoch - 2ms/step\n",
            "Epoch 17/100\n",
            "159/159 - 0s - loss: 0.0033 - 317ms/epoch - 2ms/step\n",
            "Epoch 18/100\n",
            "159/159 - 0s - loss: 0.0034 - 325ms/epoch - 2ms/step\n",
            "Epoch 19/100\n",
            "159/159 - 0s - loss: 0.0033 - 315ms/epoch - 2ms/step\n",
            "Epoch 20/100\n",
            "159/159 - 0s - loss: 0.0033 - 339ms/epoch - 2ms/step\n",
            "Epoch 21/100\n",
            "159/159 - 0s - loss: 0.0032 - 307ms/epoch - 2ms/step\n",
            "Epoch 22/100\n",
            "159/159 - 0s - loss: 0.0034 - 323ms/epoch - 2ms/step\n",
            "Epoch 23/100\n",
            "159/159 - 0s - loss: 0.0032 - 322ms/epoch - 2ms/step\n",
            "Epoch 24/100\n",
            "159/159 - 0s - loss: 0.0033 - 319ms/epoch - 2ms/step\n",
            "Epoch 25/100\n",
            "159/159 - 0s - loss: 0.0033 - 315ms/epoch - 2ms/step\n",
            "Epoch 26/100\n",
            "159/159 - 0s - loss: 0.0032 - 301ms/epoch - 2ms/step\n",
            "Epoch 27/100\n",
            "159/159 - 0s - loss: 0.0032 - 358ms/epoch - 2ms/step\n",
            "Epoch 28/100\n",
            "159/159 - 0s - loss: 0.0033 - 311ms/epoch - 2ms/step\n",
            "Epoch 29/100\n",
            "159/159 - 0s - loss: 0.0032 - 343ms/epoch - 2ms/step\n",
            "Epoch 30/100\n",
            "159/159 - 0s - loss: 0.0032 - 325ms/epoch - 2ms/step\n",
            "Epoch 31/100\n",
            "159/159 - 0s - loss: 0.0032 - 323ms/epoch - 2ms/step\n",
            "Epoch 32/100\n",
            "159/159 - 0s - loss: 0.0032 - 316ms/epoch - 2ms/step\n",
            "Epoch 33/100\n",
            "159/159 - 0s - loss: 0.0032 - 339ms/epoch - 2ms/step\n",
            "Epoch 34/100\n",
            "159/159 - 0s - loss: 0.0032 - 319ms/epoch - 2ms/step\n",
            "Epoch 35/100\n",
            "159/159 - 0s - loss: 0.0032 - 312ms/epoch - 2ms/step\n",
            "Epoch 36/100\n",
            "159/159 - 0s - loss: 0.0032 - 349ms/epoch - 2ms/step\n",
            "Epoch 37/100\n",
            "159/159 - 0s - loss: 0.0032 - 304ms/epoch - 2ms/step\n",
            "Epoch 38/100\n",
            "159/159 - 0s - loss: 0.0031 - 326ms/epoch - 2ms/step\n",
            "Epoch 39/100\n",
            "159/159 - 0s - loss: 0.0032 - 314ms/epoch - 2ms/step\n",
            "Epoch 40/100\n",
            "159/159 - 0s - loss: 0.0032 - 326ms/epoch - 2ms/step\n",
            "Epoch 41/100\n",
            "159/159 - 0s - loss: 0.0031 - 322ms/epoch - 2ms/step\n",
            "Epoch 42/100\n",
            "159/159 - 0s - loss: 0.0031 - 316ms/epoch - 2ms/step\n",
            "Epoch 43/100\n",
            "159/159 - 0s - loss: 0.0031 - 340ms/epoch - 2ms/step\n",
            "Epoch 44/100\n",
            "159/159 - 0s - loss: 0.0031 - 364ms/epoch - 2ms/step\n",
            "Epoch 45/100\n",
            "159/159 - 0s - loss: 0.0032 - 468ms/epoch - 3ms/step\n",
            "Epoch 46/100\n",
            "159/159 - 0s - loss: 0.0031 - 464ms/epoch - 3ms/step\n",
            "Epoch 47/100\n",
            "159/159 - 0s - loss: 0.0033 - 462ms/epoch - 3ms/step\n",
            "Epoch 48/100\n",
            "159/159 - 0s - loss: 0.0032 - 496ms/epoch - 3ms/step\n",
            "Epoch 49/100\n",
            "159/159 - 0s - loss: 0.0032 - 465ms/epoch - 3ms/step\n",
            "Epoch 50/100\n",
            "159/159 - 0s - loss: 0.0030 - 479ms/epoch - 3ms/step\n",
            "Epoch 51/100\n",
            "159/159 - 0s - loss: 0.0032 - 463ms/epoch - 3ms/step\n",
            "Epoch 52/100\n",
            "159/159 - 0s - loss: 0.0031 - 469ms/epoch - 3ms/step\n",
            "Epoch 53/100\n",
            "159/159 - 0s - loss: 0.0031 - 443ms/epoch - 3ms/step\n",
            "Epoch 54/100\n",
            "159/159 - 0s - loss: 0.0031 - 308ms/epoch - 2ms/step\n",
            "Epoch 55/100\n",
            "159/159 - 0s - loss: 0.0031 - 323ms/epoch - 2ms/step\n",
            "Epoch 56/100\n",
            "159/159 - 0s - loss: 0.0031 - 338ms/epoch - 2ms/step\n",
            "Epoch 57/100\n",
            "159/159 - 0s - loss: 0.0031 - 311ms/epoch - 2ms/step\n",
            "Epoch 58/100\n",
            "159/159 - 0s - loss: 0.0031 - 314ms/epoch - 2ms/step\n",
            "Epoch 59/100\n",
            "159/159 - 0s - loss: 0.0030 - 331ms/epoch - 2ms/step\n",
            "Epoch 60/100\n",
            "159/159 - 0s - loss: 0.0031 - 313ms/epoch - 2ms/step\n",
            "Epoch 61/100\n",
            "159/159 - 0s - loss: 0.0031 - 331ms/epoch - 2ms/step\n",
            "Epoch 62/100\n",
            "159/159 - 0s - loss: 0.0031 - 318ms/epoch - 2ms/step\n",
            "Epoch 63/100\n",
            "159/159 - 0s - loss: 0.0031 - 343ms/epoch - 2ms/step\n",
            "Epoch 64/100\n",
            "159/159 - 0s - loss: 0.0031 - 323ms/epoch - 2ms/step\n",
            "Epoch 65/100\n",
            "159/159 - 0s - loss: 0.0033 - 329ms/epoch - 2ms/step\n",
            "Epoch 66/100\n",
            "159/159 - 0s - loss: 0.0030 - 299ms/epoch - 2ms/step\n",
            "Epoch 67/100\n",
            "159/159 - 0s - loss: 0.0031 - 315ms/epoch - 2ms/step\n",
            "Epoch 68/100\n",
            "159/159 - 0s - loss: 0.0031 - 326ms/epoch - 2ms/step\n",
            "Epoch 69/100\n",
            "159/159 - 0s - loss: 0.0031 - 315ms/epoch - 2ms/step\n",
            "Epoch 70/100\n",
            "159/159 - 0s - loss: 0.0031 - 330ms/epoch - 2ms/step\n",
            "Epoch 71/100\n",
            "159/159 - 0s - loss: 0.0031 - 298ms/epoch - 2ms/step\n",
            "Epoch 72/100\n",
            "159/159 - 0s - loss: 0.0031 - 331ms/epoch - 2ms/step\n",
            "Epoch 73/100\n",
            "159/159 - 0s - loss: 0.0030 - 303ms/epoch - 2ms/step\n",
            "Epoch 74/100\n",
            "159/159 - 0s - loss: 0.0031 - 315ms/epoch - 2ms/step\n",
            "Epoch 75/100\n",
            "159/159 - 0s - loss: 0.0032 - 336ms/epoch - 2ms/step\n",
            "Epoch 76/100\n",
            "159/159 - 0s - loss: 0.0030 - 292ms/epoch - 2ms/step\n",
            "Epoch 77/100\n",
            "159/159 - 0s - loss: 0.0030 - 325ms/epoch - 2ms/step\n",
            "Epoch 78/100\n",
            "159/159 - 0s - loss: 0.0031 - 323ms/epoch - 2ms/step\n",
            "Epoch 79/100\n",
            "159/159 - 0s - loss: 0.0031 - 314ms/epoch - 2ms/step\n",
            "Epoch 80/100\n",
            "159/159 - 0s - loss: 0.0031 - 321ms/epoch - 2ms/step\n",
            "Epoch 81/100\n",
            "159/159 - 0s - loss: 0.0031 - 323ms/epoch - 2ms/step\n",
            "Epoch 82/100\n",
            "159/159 - 0s - loss: 0.0031 - 295ms/epoch - 2ms/step\n",
            "Epoch 83/100\n",
            "159/159 - 0s - loss: 0.0031 - 313ms/epoch - 2ms/step\n",
            "Epoch 84/100\n",
            "159/159 - 0s - loss: 0.0031 - 325ms/epoch - 2ms/step\n",
            "Epoch 85/100\n",
            "159/159 - 0s - loss: 0.0031 - 473ms/epoch - 3ms/step\n",
            "Epoch 86/100\n",
            "159/159 - 1s - loss: 0.0031 - 503ms/epoch - 3ms/step\n",
            "Epoch 87/100\n",
            "159/159 - 1s - loss: 0.0030 - 501ms/epoch - 3ms/step\n",
            "Epoch 88/100\n",
            "159/159 - 1s - loss: 0.0031 - 519ms/epoch - 3ms/step\n",
            "Epoch 89/100\n",
            "159/159 - 0s - loss: 0.0031 - 479ms/epoch - 3ms/step\n",
            "Epoch 90/100\n",
            "159/159 - 0s - loss: 0.0031 - 496ms/epoch - 3ms/step\n",
            "Epoch 91/100\n",
            "159/159 - 0s - loss: 0.0029 - 493ms/epoch - 3ms/step\n",
            "Epoch 92/100\n",
            "159/159 - 0s - loss: 0.0032 - 479ms/epoch - 3ms/step\n",
            "Epoch 93/100\n",
            "159/159 - 0s - loss: 0.0030 - 413ms/epoch - 3ms/step\n",
            "Epoch 94/100\n",
            "159/159 - 0s - loss: 0.0031 - 299ms/epoch - 2ms/step\n",
            "Epoch 95/100\n",
            "159/159 - 0s - loss: 0.0030 - 328ms/epoch - 2ms/step\n",
            "Epoch 96/100\n",
            "159/159 - 0s - loss: 0.0031 - 326ms/epoch - 2ms/step\n",
            "Epoch 97/100\n",
            "159/159 - 0s - loss: 0.0031 - 319ms/epoch - 2ms/step\n",
            "Epoch 98/100\n",
            "159/159 - 0s - loss: 0.0030 - 338ms/epoch - 2ms/step\n",
            "Epoch 99/100\n",
            "159/159 - 0s - loss: 0.0031 - 313ms/epoch - 2ms/step\n",
            "Epoch 100/100\n",
            "159/159 - 0s - loss: 0.0031 - 324ms/epoch - 2ms/step\n"
          ]
        },
        {
          "output_type": "execute_result",
          "data": {
            "text/plain": [
              "<keras.callbacks.History at 0x7f5e4dee2490>"
            ]
          },
          "metadata": {},
          "execution_count": 24
        }
      ]
    },
    {
      "cell_type": "code",
      "source": [
        "# make a prediction on train and test data \n",
        "trainpredict = model.predict(trainx)\n",
        "testpredict = model.predict(testx)"
      ],
      "metadata": {
        "colab": {
          "base_uri": "https://localhost:8080/"
        },
        "id": "Lz3EwqR4JIhw",
        "outputId": "c778e310-786f-4051-bb5e-944f394b8289"
      },
      "execution_count": null,
      "outputs": [
        {
          "output_type": "stream",
          "name": "stdout",
          "text": [
            "5/5 [==============================] - 1s 4ms/step\n",
            "2/2 [==============================] - 0s 8ms/step\n"
          ]
        }
      ]
    },
    {
      "cell_type": "code",
      "source": [
        "# Now we get predicted value in sacled form we want in actual value so we use inverse_transform \n",
        "trainpredict = scaler.inverse_transform(trainpredict)\n",
        "trainy = scaler.inverse_transform([trainy])\n",
        "testpredict = scaler.inverse_transform(testpredict)\n",
        "testy = scaler.inverse_transform([testy])"
      ],
      "metadata": {
        "id": "gi3G8nZeJKqy"
      },
      "execution_count": null,
      "outputs": []
    },
    {
      "cell_type": "code",
      "source": [
        "mean_squared_error(trainy[0], trainpredict[:,0])"
      ],
      "metadata": {
        "colab": {
          "base_uri": "https://localhost:8080/"
        },
        "id": "rz9Zy2ziJMwK",
        "outputId": "a63ec0a1-6553-4755-eecb-ea9f56d7910b"
      },
      "execution_count": null,
      "outputs": [
        {
          "output_type": "execute_result",
          "data": {
            "text/plain": [
              "2.115784004962335"
            ]
          },
          "metadata": {},
          "execution_count": 27
        }
      ]
    },
    {
      "cell_type": "code",
      "source": [
        "mean_squared_error(testy[0], testpredict[:,0])"
      ],
      "metadata": {
        "colab": {
          "base_uri": "https://localhost:8080/"
        },
        "id": "nYkkDRyTJPVf",
        "outputId": "b4d2ac5d-0668-4a55-ebf5-4e09ba441f25"
      },
      "execution_count": null,
      "outputs": [
        {
          "output_type": "execute_result",
          "data": {
            "text/plain": [
              "12.533157207806246"
            ]
          },
          "metadata": {},
          "execution_count": 28
        }
      ]
    },
    {
      "cell_type": "code",
      "source": [
        "trainpredictplot=np.empty_like(dataset)\n",
        "trainpredictplot[:,:] = np.nan\n",
        "trainpredictplot[lag:len(trainpredict)+lag,:] = trainpredict\n",
        "\n",
        "testpredictplot=np.empty_like(dataset)\n",
        "testpredictplot[:,:] = np.nan\n",
        "testpredictplot[len(trainpredict) + 2*lag+1:len(dataset)-1, :] = testpredict"
      ],
      "metadata": {
        "id": "nHN1eyR3JR1g"
      },
      "execution_count": null,
      "outputs": []
    },
    {
      "cell_type": "code",
      "source": [
        "dataset = scaler.inverse_transform(dataset)"
      ],
      "metadata": {
        "id": "KZooH5LLJUXI"
      },
      "execution_count": null,
      "outputs": []
    },
    {
      "cell_type": "code",
      "source": [
        "#  Visualize Between predicted and actual value\n",
        "plt.plot(dataset,color='gray', label=\"Actual data\")\n",
        "plt.plot(trainpredictplot ,color='purple',label=\"train_predict value\")\n",
        "plt.plot(testpredictplot ,color='cyan', label=\"test_predict value\")\n",
        "plt.legend()\n",
        "plt.show()"
      ],
      "metadata": {
        "colab": {
          "base_uri": "https://localhost:8080/",
          "height": 265
        },
        "id": "_zdTaJ4NJWKi",
        "outputId": "2be64f0d-0d35-48e7-e3ca-2400d7ba969a"
      },
      "execution_count": null,
      "outputs": [
        {
          "output_type": "display_data",
          "data": {
            "text/plain": [
              "<Figure size 432x288 with 1 Axes>"
            ],
            "image/png": "[encoded data removed]"
          },
          "metadata": {
            "needs_background": "light"
          }
        }
      ]
    }
  ]
}